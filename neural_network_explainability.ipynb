{
 "cells": [
  {
   "cell_type": "code",
   "execution_count": 1,
   "metadata": {},
   "outputs": [],
   "source": [
    "import numpy as np\n",
    "\n",
    "\n",
    "import matplotlib.pyplot as plt"
   ]
  },
  {
   "cell_type": "code",
   "execution_count": 2,
   "metadata": {},
   "outputs": [
    {
     "data": {
      "text/plain": [
       "(2, 3)"
      ]
     },
     "execution_count": 2,
     "metadata": {},
     "output_type": "execute_result"
    }
   ],
   "source": [
    "X = np.array([[2,9], [3, 4], [9, 8]])\n",
    "\n",
    "\n",
    "#X_2d = X.reshape(2, 1)\n",
    "#X_2d\n",
    "X_2= X.reshape(2, 3)\n",
    "\n",
    "\n",
    "X_2.shape"
   ]
  },
  {
   "cell_type": "code",
   "execution_count": 3,
   "metadata": {},
   "outputs": [
    {
     "data": {
      "text/plain": [
       "-0.00499463571624764"
      ]
     },
     "execution_count": 3,
     "metadata": {},
     "output_type": "execute_result"
    },
    {
     "data": {
      "image/png": "[encoded data removed]",
      "text/plain": [
       "<Figure size 640x480 with 1 Axes>"
      ]
     },
     "metadata": {},
     "output_type": "display_data"
    }
   ],
   "source": [
    "xs = np.arange(-5, 5, 0.25)\n",
    "def parabola(x):\n",
    "    return x**2\n",
    "y = parabola(xs)\n",
    "\n",
    "plt.plot(xs, y)\n",
    "\n",
    "x = -6\n",
    "\n",
    "\n",
    "\n",
    "\n",
    "for i in range(1000):\n",
    "    h = 0.0001\n",
    "    b = 2*x\n",
    "    # change in B \n",
    "    if (abs(b) <= 0.01):\n",
    "        break\n",
    "    else:\n",
    "        x = x - 0.01*(b)\n",
    "        \n",
    "    \n",
    "    \n",
    "x\n",
    "\n",
    "\n"
   ]
  },
  {
   "cell_type": "markdown",
   "metadata": {},
   "source": [
    "### Matrix Multiplication Explanation for backpropagation only for one single example for interpretability\n",
    "\n",
    "m is defined as number of datapoints"
   ]
  },
  {
   "cell_type": "code",
   "execution_count": 4,
   "metadata": {},
   "outputs": [],
   "source": [
    "class NeuralNet():\n",
    "    \n",
    "    def __init__(self, inputs, hidden, outputs):\n",
    "        self.input_nodes = inputs\n",
    "        self.hidden_nodes = hidden\n",
    "        self.output_nodes = outputs\n",
    "        \n",
    "        self.input_weights = np.random.randn(self.hidden_nodes, self.input_nodes) # 3 by 2\n",
    "        self.hidden_weights = np.random.randn(self.output_nodes, self.hidden_nodes) # 1 by 3\n",
    "        \n",
    "    def feed_forward(self, X):\n",
    "        self.X = X\n",
    "        self.Z1 = np.dot(self.input_weights, X) # 3 by 2 * 2 by m\n",
    "        self.A1 = self.sigmoid(self.Z1) # 3 by m\n",
    "        self.Z2 = np.dot(self.hidden_weights, self.A1) # 1 by 3 * 3 by m\n",
    "        self.out = self.sigmoid(self.Z2) # 1 by m\n",
    "    \n",
    "        return self.out\n",
    "        \n",
    "        \n",
    "    def sigmoid(self, z):\n",
    "          return 1 / (1 + np.exp(-z))\n",
    "        \n",
    "    def backprop(self, target):\n",
    "        # derivative of the cost function with respect to the prediction\n",
    "        \n",
    "        \n",
    "        output_error = self.out - target # (1 by m) - (1 by m) element wise subtraction\n",
    "        sig_error = self.out*(1-self.out) # 1 by m times scalar = 1 by m\n",
    "        self.dz2 = output_error * sig_error # 1 by m\n",
    "        self.dw2 = np.dot(self.dz2,self.A1.T) # 1 by m with m by 3\n",
    "        da = np.dot(self.hidden_weights.T, self.dz2) # 3 by 1 by 1 by m\n",
    "        dz1 = da * self.A1*(1-self.A1) # 3 by m\n",
    "        self.dw1 = np.dot(dz1, self.X.T) # 3 by m by m by 2\n",
    "        \n",
    "    \n",
    "    def update_weights(self):\n",
    "        self.hidden_weights = self.hidden_weights - (0.001*self.dw2) # element wise vector substraction\n",
    "        self.input_weights = self.input_weights - (0.001*self.dw1)\n",
    "        \n",
    "        "
   ]
  },
  {
   "cell_type": "code",
   "execution_count": 6,
   "metadata": {},
   "outputs": [
    {
     "data": {
      "text/plain": [
       "(3,)"
      ]
     },
     "execution_count": 6,
     "metadata": {},
     "output_type": "execute_result"
    }
   ],
   "source": [
    "target = np.array([0.6, 0.5, 0.2])\n",
    "target_z = target.reshape(1,3)\n",
    "target_z.shape\n",
    "target."
   ]
  },
  {
   "cell_type": "code",
   "execution_count": 92,
   "metadata": {},
   "outputs": [],
   "source": [
    "c = NeuralNet(2, 200, 1)\n",
    "\n",
    "# target is parameter inside backprop\n",
    "# more hidden layers = closer to target"
   ]
  },
  {
   "cell_type": "code",
   "execution_count": 93,
   "metadata": {},
   "outputs": [],
   "source": [
    "for i in range(1000):\n",
    "    c.feed_forward(X_2)\n",
    "    #print(c.feed_forward(X_2d)) allows user to see output getting closer to target\n",
    "    c.backprop(target_z)\n",
    "    c.update_weights()"
   ]
  },
  {
   "cell_type": "code",
   "execution_count": 94,
   "metadata": {},
   "outputs": [
    {
     "data": {
      "text/plain": [
       "array([[0.59172664, 0.49042041, 0.19405967]])"
      ]
     },
     "execution_count": 94,
     "metadata": {},
     "output_type": "execute_result"
    }
   ],
   "source": [
    "c.feed_forward(X_2)"
   ]
  },
  {
   "cell_type": "code",
   "execution_count": null,
   "metadata": {},
   "outputs": [],
   "source": []
  }
 ],
 "metadata": {
  "kernelspec": {
   "display_name": "ml_venv",
   "language": "python",
   "name": "ml_venv"
  },
  "language_info": {
   "codemirror_mode": {
    "name": "ipython",
    "version": 3
   },
   "file_extension": ".py",
   "mimetype": "text/x-python",
   "name": "python",
   "nbconvert_exporter": "python",
   "pygments_lexer": "ipython3",
   "version": "3.11.4"
  }
 },
 "nbformat": 4,
 "nbformat_minor": 2
}
